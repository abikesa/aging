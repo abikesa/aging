{
 "cells": [
  {
   "cell_type": "markdown",
   "metadata": {},
   "source": [
    "# Preface\n",
    "\n",
    "What's [Intelligence](https://en.wikipedia.org/wiki/What%27s_Love_Got_to_Do_with_It_(song)) Got to Do with It? Let's lay out the six dimensions of intelligence, and tie them together as the basis of \"Independence\" in [Activities of Daily Living](https://en.wikipedia.org/wiki/Activities_of_daily_living#:~:text=Common%20activities%20of%20daily%20living,hygiene%20after%20using%20the%20toilet.).\n",
    "\n",
    "1. **Sensory, σ**: Sensory input forms the basis of all intelligence, whether in humans or AI. You need a rich dataset to feed any system, and our senses are the ultimate input devices. But the power here is in multimodal integration—how different sensory streams (visual, auditory, etc.) are combined to create a unified perception. AI excels at processing these streams separately, but true AGI will require seamless integration, akin to how humans naturally synthesize sensory data. Alas, a hallmark of aging is reduced sensory aquity.\n",
    "\n",
    "2. **Cognitive, Ψ**: This is the layer where LLMs dominate. Language models don't just interpret words—they unlock meaning, abstract relationships, and even emotional nuance. Cognitive intelligence is like the nervous system of AGI. It's what gives structure to raw sensory data and allows for conceptual thinking. The reason 2023 is the tipping point is that AI has gotten a lot better at understanding not just literal language, but context, subtext, and metaphor—essentially, the highest forms of abstract reasoning. Because cognitive decline is a hallmark of aging, brought to the attention of the entire world with Joe Biden's withdraw from the race to the 2024 ballot, bionic interfaces in the spirit of [Neuralink](https://en.wikipedia.org/wiki/Neuralink) will ultimately play a role in gerontology and dementia research.\n",
    "\n",
    "3. **Motor, ε**: Physical intelligence doesn’t get enough attention in popular AI discussions. Robotics, especially with adversarial setups, is like boot camp for AI in the real world. This hands-on intelligence, where machines learn from physical interaction is about dexterity and developing survival strategies in complex environments. This is the sandbox where true embodiment happens, which brings AI out of theory and into lived reality. Independently navigating simple environments to perform the six ADLs is a reasonable way to summarize the ultimate goal of gerontology. Robotics espoused by [Nvivdia](https://www.nvidia.com/en-us/solutions/robotics-and-edge-computing/) will soon be on the market & might initially provide support to older adults who have lost independence in some of the domains of ADL. Bionic elements from these robots might later help to restore independence in what thus far is an irreversible declension.\n",
    "\n",
    "4. **Feedback, Δ**: This is where the magic happens because feedback ties everything together. It’s not just about performance metrics; it’s about learning through success, failure, and continuous adjustments. Feedback loops make AI resilient—able to update its models in real-time. In fact, this is where humans often fall short compared to machines. We can only process feedback so quickly, while AI can absorb massive streams of data and refine its performance exponentially. Because humans fall short here, obviously older humans fall much shorter. The [Physical Frailty](https://pubmed.ncbi.nlm.nih.gov/11253156/) phenotype is the very antithesis of resilience. Cybernetic systems will play a role in boosting metrics in this realm.\n",
    "\n",
    "5. **Iteration, τ**: This point is crucial because intelligence isn’t static. Without iteration, even the most advanced model would stagnate. You need the iterative process to adapt to changing environments, evolving goals, and more nuanced forms of feedback. This is what makes AI different from hard-coded systems—it’s designed to learn *and* relearn, endlessly, until it reaches optimal performance. In fact, the iterative cycle mirrors evolution in biology. Yet aging is an aspect of biology we are treating as an adversary. How might we keep an aging adult to iteratively adapt to a changing social, mental, and existential environment in the age of AGI? How might we fend off the physiological loss of reserves that reduces resilience and the ability to iteratively adapt to changing environments after 75 years old?\n",
    "\n",
    "6. **Unsupervised, Ω**: Here's where we hit the big reveal—this is the crux of AGI. The idea of cutting out the human feedback bottleneck is bold but necessary. Human feedback is valuable, but it’s slow and finite. Machines, once properly tuned, can self-optimize far beyond human capabilities, especially when training on the endless complexity of adversarial environments. When you let the system update itself, iterating autonomously, adapting to new data, you've got something that might indeed approach the holy grail: AGI. This leap from supervised to unsupervised learning breaks the ceiling and allows intelligence to truly scale. We can leverage this aspiration to have unsupervised bionic systems that keep adapting to the declining functional capacity of the older adult. Being cybernetic systems, the automated unsupervised feedback loops should potentially cut costs, cutout the need for medical services, and truly redefine the meaning of independent living in a bionic sense.\n",
    "\n",
    "![](https://cdn.prod.website-files.com/5ef0d128fc86a6494b19f9a6/5f06182215dc28fb0fc416d2_579fab05cf5bef6e36bf34b5_activities%2520of%2520daily%2520living%252C%2520medicaid%2520planning%2520lawyer.png)\n",
    "\n",
    "```{figure} figures/blanche.*\n",
    "---\n",
    "width: 1\n",
    "height: 1\n",
    "---\n",
    "_Activities of Daily Living_. This figure illustrates the six core Activities of Daily Living (ADLs), essential tasks for basic self-care and independent living, commonly used in geriatric assessments. These activities include eating, bathing, dressing, toileting, transferring, and mobility, all of which tend to decline with aging. In the context of this discussion, improving independence through the integration of bionic systems and AI could transform the future of elder care, offering innovative solutions to support older adults in maintaining their autonomy as these capabilities diminish.\n",
    "```\n"
   ]
  },
  {
   "cell_type": "markdown",
   "metadata": {},
   "source": [
    "\n",
    "### Table of Contents\n",
    "\n",
    "```{tableofcontents}\n",
    "```\n",
    "   \n"
   ]
  }
 ],
 "metadata": {
  "kernelspec": {
   "display_name": "Python 3",
   "language": "python",
   "name": "python3"
  },
  "language_info": {
   "codemirror_mode": {
    "name": "ipython",
    "version": 3
   },
   "file_extension": ".py",
   "mimetype": "text/x-python",
   "name": "python",
   "nbconvert_exporter": "python",
   "pygments_lexer": "ipython3",
   "version": "3.12.4"
  },
  "widgets": {
   "application/vnd.jupyter.widget-state+json": {
    "state": {},
    "version_major": 2,
    "version_minor": 0
   }
  }
 },
 "nbformat": 4,
 "nbformat_minor": 4
}